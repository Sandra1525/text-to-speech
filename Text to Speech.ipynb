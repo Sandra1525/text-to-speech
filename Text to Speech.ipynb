{
 "cells": [
  {
   "cell_type": "code",
   "execution_count": 3,
   "metadata": {},
   "outputs": [
    {
     "name": "stdout",
     "output_type": "stream",
     "text": [
      "Requirement already satisfied: ibm_watson in c:\\users\\an\\anaconda3\\lib\\site-packages (5.3.0)\n",
      "Requirement already satisfied: requests<3.0,>=2.0 in c:\\users\\an\\anaconda3\\lib\\site-packages (from ibm_watson) (2.24.0)\n",
      "Requirement already satisfied: ibm-cloud-sdk-core==3.*,>=3.3.6 in c:\\users\\an\\anaconda3\\lib\\site-packages (from ibm_watson) (3.13.2)\n",
      "Requirement already satisfied: websocket-client==1.1.0 in c:\\users\\an\\anaconda3\\lib\\site-packages (from ibm_watson) (1.1.0)\n",
      "Requirement already satisfied: python-dateutil>=2.5.3 in c:\\users\\an\\anaconda3\\lib\\site-packages (from ibm_watson) (2.8.1)\n",
      "Requirement already satisfied: urllib3!=1.25.0,!=1.25.1,<1.26,>=1.21.1 in c:\\users\\an\\anaconda3\\lib\\site-packages (from requests<3.0,>=2.0->ibm_watson) (1.25.11)\n",
      "Requirement already satisfied: chardet<4,>=3.0.2 in c:\\users\\an\\anaconda3\\lib\\site-packages (from requests<3.0,>=2.0->ibm_watson) (3.0.4)\n",
      "Requirement already satisfied: idna<3,>=2.5 in c:\\users\\an\\anaconda3\\lib\\site-packages (from requests<3.0,>=2.0->ibm_watson) (2.10)\n",
      "Requirement already satisfied: certifi>=2017.4.17 in c:\\users\\an\\anaconda3\\lib\\site-packages (from requests<3.0,>=2.0->ibm_watson) (2020.6.20)\n",
      "Requirement already satisfied: PyJWT<3.0.0,>=2.0.1 in c:\\users\\an\\anaconda3\\lib\\site-packages (from ibm-cloud-sdk-core==3.*,>=3.3.6->ibm_watson) (2.3.0)\n",
      "Requirement already satisfied: six>=1.5 in c:\\users\\an\\anaconda3\\lib\\site-packages (from python-dateutil>=2.5.3->ibm_watson) (1.15.0)\n"
     ]
    }
   ],
   "source": [
    "!pip install ibm_watson"
   ]
  },
  {
   "cell_type": "code",
   "execution_count": 4,
   "metadata": {},
   "outputs": [
    {
     "name": "stdout",
     "output_type": "stream",
     "text": [
      "Requirement already satisfied: ibm_watson in c:\\users\\an\\anaconda3\\lib\\site-packages (5.3.0)\n",
      "Requirement already satisfied: ibm-cloud-sdk-core==3.*,>=3.3.6 in c:\\users\\an\\anaconda3\\lib\\site-packages (from ibm_watson) (3.13.2)\n",
      "Requirement already satisfied: requests<3.0,>=2.0 in c:\\users\\an\\anaconda3\\lib\\site-packages (from ibm_watson) (2.24.0)\n",
      "Requirement already satisfied: python-dateutil>=2.5.3 in c:\\users\\an\\anaconda3\\lib\\site-packages (from ibm_watson) (2.8.1)\n",
      "Requirement already satisfied: websocket-client==1.1.0 in c:\\users\\an\\anaconda3\\lib\\site-packages (from ibm_watson) (1.1.0)\n",
      "Requirement already satisfied: PyJWT<3.0.0,>=2.0.1 in c:\\users\\an\\anaconda3\\lib\\site-packages (from ibm-cloud-sdk-core==3.*,>=3.3.6->ibm_watson) (2.3.0)\n",
      "Collecting urllib3<2.0.0,>=1.26.0\n",
      "  Downloading urllib3-1.26.8-py2.py3-none-any.whl (138 kB)\n",
      "Requirement already satisfied: idna<3,>=2.5 in c:\\users\\an\\anaconda3\\lib\\site-packages (from requests<3.0,>=2.0->ibm_watson) (2.10)\n",
      "Requirement already satisfied: chardet<4,>=3.0.2 in c:\\users\\an\\anaconda3\\lib\\site-packages (from requests<3.0,>=2.0->ibm_watson) (3.0.4)\n",
      "Requirement already satisfied: certifi>=2017.4.17 in c:\\users\\an\\anaconda3\\lib\\site-packages (from requests<3.0,>=2.0->ibm_watson) (2020.6.20)\n",
      "Requirement already satisfied: six>=1.5 in c:\\users\\an\\anaconda3\\lib\\site-packages (from python-dateutil>=2.5.3->ibm_watson) (1.15.0)\n",
      "Installing collected packages: urllib3\n",
      "  Attempting uninstall: urllib3\n",
      "    Found existing installation: urllib3 1.25.11\n",
      "    Uninstalling urllib3-1.25.11:\n",
      "      Successfully uninstalled urllib3-1.25.11\n",
      "Successfully installed urllib3-1.26.8\n"
     ]
    },
    {
     "name": "stderr",
     "output_type": "stream",
     "text": [
      "ERROR: After October 2020 you may experience errors when installing or updating packages. This is because pip will change the way that it resolves dependency conflicts.\n",
      "\n",
      "We recommend you use --use-feature=2020-resolver to test your packages with the new resolver before it becomes the default.\n",
      "\n",
      "requests 2.24.0 requires urllib3!=1.25.0,!=1.25.1,<1.26,>=1.21.1, but you'll have urllib3 1.26.8 which is incompatible.\n",
      "ibm-cloud-sdk-core 3.13.2 requires requests<3.0.0,>=2.26.0, but you'll have requests 2.24.0 which is incompatible.\n"
     ]
    }
   ],
   "source": [
    "!pip install ibm_watson"
   ]
  },
  {
   "cell_type": "code",
   "execution_count": 8,
   "metadata": {},
   "outputs": [],
   "source": [
    "url='https://api.eu-gb.text-to-speech.watson.cloud.ibm.com/instances/58644f2e-e75e-42e5-b22a-368dfd480ba1'\n",
    "apikey='YNf1rGvz0g6NfqJbeJPP_jWPlYNm2iRl3SdCWEJDGBjq'"
   ]
  },
  {
   "cell_type": "code",
   "execution_count": 9,
   "metadata": {},
   "outputs": [],
   "source": [
    "from ibm_watson import TextToSpeechV1\n",
    "from ibm_cloud_sdk_core.authenticators import IAMAuthenticator"
   ]
  },
  {
   "cell_type": "code",
   "execution_count": 10,
   "metadata": {},
   "outputs": [],
   "source": [
    "#Setup Service\n",
    "authenticator=IAMAuthenticator(apikey)\n",
    "#New TTS Service\n",
    "tts=TextToSpeechV1(authenticator=authenticator)\n",
    "#Set Service URL\n",
    "tts.set_service_url(url)"
   ]
  },
  {
   "cell_type": "code",
   "execution_count": 13,
   "metadata": {},
   "outputs": [],
   "source": [
    "#Convert a string\\\n",
    "with open('./speech.mp3','wb')as audio_file:\n",
    "    res=tts.synthesize('Today is a Beautiful Day',accept='audio/mp3',voice='en-US_AllisonV3Voice').get_result()\n",
    "    audio_file.write(res.content)\n",
    "    "
   ]
  },
  {
   "cell_type": "code",
   "execution_count": 17,
   "metadata": {},
   "outputs": [],
   "source": [
    "#Convert a File\n",
    "with open('time.txt','r')as f:\n",
    "    text=f.readlines()"
   ]
  },
  {
   "cell_type": "code",
   "execution_count": 18,
   "metadata": {},
   "outputs": [
    {
     "data": {
      "text/plain": [
       "[\"Sonnet 100: Where Art Thou, Muse, That Thou Forget'st So Long\\n\",\n",
       " 'By William Shakespeare\\n',\n",
       " \"Where art thou, Muse, that thou forget'st so long\\n\",\n",
       " 'To speak of that which gives thee all thy might?\\n',\n",
       " \"Spend'st thou thy fury on some worthless song,\\n\",\n",
       " 'Darkening thy power to lend base subjects light?\\n',\n",
       " 'Return, forgetful Muse, and straight redeem\\n',\n",
       " 'In gentle numbers time so idly spent;\\n',\n",
       " 'Sing to the ear that doth thy lays esteem,\\n',\n",
       " 'And gives thy pen both skill and argument.\\n',\n",
       " \"Rise, resty Muse, my love's sweet face survey\\n\",\n",
       " 'If time have any wrinkle graven there;\\n',\n",
       " 'If any, be a satire to decay,\\n',\n",
       " \"And make time's spoils despisÃ¨d everywhere.\\n\",\n",
       " 'Give my love fame faster than Time wastes life;\\n',\n",
       " \"So thou prevent'st his scythe and crooked knife.\"]"
      ]
     },
     "execution_count": 18,
     "metadata": {},
     "output_type": "execute_result"
    }
   ],
   "source": [
    "text\n"
   ]
  },
  {
   "cell_type": "code",
   "execution_count": 19,
   "metadata": {},
   "outputs": [],
   "source": [
    "text=[line.replace('\\n','') for line in text]\n",
    "text=''.join(str(line) for line in text)"
   ]
  },
  {
   "cell_type": "code",
   "execution_count": 20,
   "metadata": {},
   "outputs": [
    {
     "data": {
      "text/plain": [
       "\"Sonnet 100: Where Art Thou, Muse, That Thou Forget'st So LongBy William ShakespeareWhere art thou, Muse, that thou forget'st so longTo speak of that which gives thee all thy might?Spend'st thou thy fury on some worthless song,Darkening thy power to lend base subjects light?Return, forgetful Muse, and straight redeemIn gentle numbers time so idly spent;Sing to the ear that doth thy lays esteem,And gives thy pen both skill and argument.Rise, resty Muse, my love's sweet face surveyIf time have any wrinkle graven there;If any, be a satire to decay,And make time's spoils despisÃ¨d everywhere.Give my love fame faster than Time wastes life;So thou prevent'st his scythe and crooked knife.\""
      ]
     },
     "execution_count": 20,
     "metadata": {},
     "output_type": "execute_result"
    }
   ],
   "source": [
    "text\n"
   ]
  },
  {
   "cell_type": "code",
   "execution_count": 31,
   "metadata": {},
   "outputs": [],
   "source": [
    "with open('./timepoem.mp3','wb')as audio_file:\n",
    "    res=tts.synthesize(text,accept='audio/mp3',voice='en-US_AllisonV3Voice').get_result()\n",
    "    audio_file.write(res.content)"
   ]
  },
  {
   "cell_type": "code",
   "execution_count": 30,
   "metadata": {},
   "outputs": [
    {
     "data": {
      "text/plain": [
       "\"Sonnet 100: Where Art Thou, Muse, That Thou Forget'st So LongBy William ShakespeareWhere art thou, Muse, that thou forget'st so longTo speak of that which gives thee all thy might?Spend'st thou thy fury on some worthless song,Darkening thy power to lend base subjects light?Return, forgetful Muse, and straight redeemIn gentle numbers time so idly spent;Sing to the ear that doth thy lays esteem,And gives thy pen both skill and argument.Rise, resty Muse, my love's sweet face surveyIf time have any wrinkle graven there;If any, be a satire to decay,And make time's spoils despisÃ¨d everywhere.Give my love fame faster than Time wastes life;So thou prevent'st his scythe and crooked knife.\""
      ]
     },
     "execution_count": 30,
     "metadata": {},
     "output_type": "execute_result"
    }
   ],
   "source": [
    "text"
   ]
  },
  {
   "cell_type": "code",
   "execution_count": 38,
   "metadata": {},
   "outputs": [],
   "source": [
    "rmvoice='ko-KR_SiWooVoice'"
   ]
  },
  {
   "cell_type": "code",
   "execution_count": 39,
   "metadata": {},
   "outputs": [],
   "source": [
    "rm=\"\"\"모든 편견 시선 입장을 등지고 묵묵히 자신의 길을 걸어가는 사람들 모두를 응원한다. 하지만 여전히 현실에 얽매있는 사람들 또한 응원한다 !\n",
    "이해한다. 뭐든 현실은 녹록지 않은 것을.\"\"\""
   ]
  },
  {
   "cell_type": "code",
   "execution_count": 40,
   "metadata": {},
   "outputs": [],
   "source": [
    "#Using new language models\n",
    "with open('./rmbts.mp3','wb')as audio_file:\n",
    "    res=tts.synthesize(rm,accept='audio/mp3',voice=rmvoice).get_result()\n",
    "    audio_file.write(res.content)\n"
   ]
  },
  {
   "cell_type": "code",
   "execution_count": null,
   "metadata": {},
   "outputs": [],
   "source": []
  }
 ],
 "metadata": {
  "kernelspec": {
   "display_name": "Python 3",
   "language": "python",
   "name": "python3"
  },
  "language_info": {
   "codemirror_mode": {
    "name": "ipython",
    "version": 3
   },
   "file_extension": ".py",
   "mimetype": "text/x-python",
   "name": "python",
   "nbconvert_exporter": "python",
   "pygments_lexer": "ipython3",
   "version": "3.8.5"
  }
 },
 "nbformat": 4,
 "nbformat_minor": 4
}
